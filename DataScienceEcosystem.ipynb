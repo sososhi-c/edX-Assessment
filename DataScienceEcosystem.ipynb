{
 "cells": [
  {
   "cell_type": "markdown",
   "id": "9f08cc8a-5292-49d1-b7c4-550858b457d8",
   "metadata": {},
   "source": [
    "# Data Science Tools and Ecosystem"
   ]
  },
  {
   "cell_type": "markdown",
   "id": "872ffab0-f998-422e-8c8c-682f3da441ec",
   "metadata": {},
   "source": [
    "In this notebook, Data Science Tools and Ecosystem are summarized."
   ]
  },
  {
   "cell_type": "markdown",
   "id": "4a663e88-7b20-47f5-accb-4a2d7d7686a4",
   "metadata": {},
   "source": [
    "**Objectives:**\n",
    "* Popular Data Science tools\n",
    "* Git and Github\n",
    "* Visualisation using R-Programming"
   ]
  },
  {
   "cell_type": "markdown",
   "id": "810e7223-38ac-49e4-b80e-c3cecbdb659b",
   "metadata": {},
   "source": [
    "Some of the popular languages that Data Scientists use are:\n",
    "1. Python\n",
    "2. R-programming\n",
    "3. SQL\n",
    "4. Julia"
   ]
  },
  {
   "cell_type": "markdown",
   "id": "48c7ffc2-a1e6-4930-8cd3-df4a65d951e5",
   "metadata": {},
   "source": [
    "Some of the commonly used libraries used by Data Scientists include:\n",
    "1. NumPy\n",
    "2. Pandas\n",
    "3. Matplotlib"
   ]
  },
  {
   "cell_type": "markdown",
   "id": "6ac093f6-505a-40aa-a505-f9bf590ea1d2",
   "metadata": {
    "tags": []
   },
   "source": [
    "|Data Science Tools|\n",
    "--------------------\n",
    "|Jupyter Notebook|\n",
    "|R|\n",
    "|NLTK|"
   ]
  },
  {
   "cell_type": "markdown",
   "id": "f2696914-a53b-4f6e-a1af-e11760bf14fd",
   "metadata": {},
   "source": [
    "### Below are a few examples of evaluating arithmetic expressions in Python"
   ]
  },
  {
   "cell_type": "code",
   "execution_count": 3,
   "id": "27bf40c5-1966-40cf-8df8-41e9be7bcf3d",
   "metadata": {
    "tags": []
   },
   "outputs": [
    {
     "data": {
      "text/plain": [
       "17"
      ]
     },
     "execution_count": 3,
     "metadata": {},
     "output_type": "execute_result"
    }
   ],
   "source": [
    "#This a simple arithmetic expression to mutiply then add integers\n",
    "(3*4)+5"
   ]
  },
  {
   "cell_type": "code",
   "execution_count": 1,
   "id": "e295d8fd-9371-46c0-8105-3467a242c0b8",
   "metadata": {
    "tags": []
   },
   "outputs": [
    {
     "data": {
      "text/plain": [
       "3.3333333333333335"
      ]
     },
     "execution_count": 1,
     "metadata": {},
     "output_type": "execute_result"
    }
   ],
   "source": [
    "#This will convert 200 minutes to hours by diving by 60\n",
    "200/60"
   ]
  },
  {
   "cell_type": "markdown",
   "id": "c1cf858d-b4b5-4e26-826a-36a572ffc3e3",
   "metadata": {},
   "source": [
    "## Author\n",
    "Sakshi Chauhan"
   ]
  },
  {
   "cell_type": "code",
   "execution_count": null,
   "id": "6994fa61-0a1d-433f-82e8-20782bf867ae",
   "metadata": {},
   "outputs": [],
   "source": []
  }
 ],
 "metadata": {
  "kernelspec": {
   "display_name": "Python",
   "language": "python",
   "name": "conda-env-python-py"
  },
  "language_info": {
   "codemirror_mode": {
    "name": "ipython",
    "version": 3
   },
   "file_extension": ".py",
   "mimetype": "text/x-python",
   "name": "python",
   "nbconvert_exporter": "python",
   "pygments_lexer": "ipython3",
   "version": "3.7.12"
  }
 },
 "nbformat": 4,
 "nbformat_minor": 5
}
